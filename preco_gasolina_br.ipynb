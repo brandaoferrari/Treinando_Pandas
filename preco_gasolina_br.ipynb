{
 "cells": [
  {
   "cell_type": "code",
   "execution_count": 37,
   "id": "b261a888-f7b3-436a-80cd-a977efce3e53",
   "metadata": {
    "tags": []
   },
   "outputs": [],
   "source": [
    "# importando bibliotecas\n",
    "import pandas as pd"
   ]
  },
  {
   "cell_type": "markdown",
   "id": "b2958747-1309-4f25-b21f-677c40931b53",
   "metadata": {
    "tags": []
   },
   "source": [
    "### 1. Carregue os conjuntos de dados \"gasolina_2000+.csv\" e \"gasolina_2010+.csv\" em dois DataFrames diferentes e combine-os em um único DataFrame."
   ]
  },
  {
   "cell_type": "code",
   "execution_count": 34,
   "id": "4cc49887-cddd-4765-91f3-f4106dd946fc",
   "metadata": {
    "tags": []
   },
   "outputs": [
    {
     "data": {
      "text/html": [
       "<div>\n",
       "<style scoped>\n",
       "    .dataframe tbody tr th:only-of-type {\n",
       "        vertical-align: middle;\n",
       "    }\n",
       "\n",
       "    .dataframe tbody tr th {\n",
       "        vertical-align: top;\n",
       "    }\n",
       "\n",
       "    .dataframe thead th {\n",
       "        text-align: right;\n",
       "    }\n",
       "</style>\n",
       "<table border=\"1\" class=\"dataframe\">\n",
       "  <thead>\n",
       "    <tr style=\"text-align: right;\">\n",
       "      <th></th>\n",
       "      <th>Unnamed: 0</th>\n",
       "      <th>DATA INICIAL</th>\n",
       "      <th>DATA FINAL</th>\n",
       "      <th>REGIÃO</th>\n",
       "      <th>ESTADO</th>\n",
       "      <th>PRODUTO</th>\n",
       "      <th>NÚMERO DE POSTOS PESQUISADOS</th>\n",
       "      <th>UNIDADE DE MEDIDA</th>\n",
       "      <th>PREÇO MÉDIO REVENDA</th>\n",
       "      <th>DESVIO PADRÃO REVENDA</th>\n",
       "      <th>PREÇO MÍNIMO REVENDA</th>\n",
       "      <th>PREÇO MÁXIMO REVENDA</th>\n",
       "      <th>MARGEM MÉDIA REVENDA</th>\n",
       "      <th>COEF DE VARIAÇÃO REVENDA</th>\n",
       "      <th>PREÇO MÉDIO DISTRIBUIÇÃO</th>\n",
       "      <th>DESVIO PADRÃO DISTRIBUIÇÃO</th>\n",
       "      <th>PREÇO MÍNIMO DISTRIBUIÇÃO</th>\n",
       "      <th>PREÇO MÁXIMO DISTRIBUIÇÃO</th>\n",
       "      <th>COEF DE VARIAÇÃO DISTRIBUIÇÃO</th>\n",
       "    </tr>\n",
       "  </thead>\n",
       "  <tbody>\n",
       "    <tr>\n",
       "      <th>0</th>\n",
       "      <td>0</td>\n",
       "      <td>2004-05-09</td>\n",
       "      <td>2004-05-15</td>\n",
       "      <td>CENTRO OESTE</td>\n",
       "      <td>DISTRITO FEDERAL</td>\n",
       "      <td>ETANOL HIDRATADO</td>\n",
       "      <td>127</td>\n",
       "      <td>R$/l</td>\n",
       "      <td>1.288</td>\n",
       "      <td>0.016</td>\n",
       "      <td>1.19</td>\n",
       "      <td>1.350</td>\n",
       "      <td>0.463</td>\n",
       "      <td>0.012</td>\n",
       "      <td>0.825</td>\n",
       "      <td>0.11</td>\n",
       "      <td>0.4201</td>\n",
       "      <td>0.9666</td>\n",
       "      <td>0.133</td>\n",
       "    </tr>\n",
       "    <tr>\n",
       "      <th>1</th>\n",
       "      <td>1</td>\n",
       "      <td>2004-05-09</td>\n",
       "      <td>2004-05-15</td>\n",
       "      <td>CENTRO OESTE</td>\n",
       "      <td>GOIAS</td>\n",
       "      <td>ETANOL HIDRATADO</td>\n",
       "      <td>387</td>\n",
       "      <td>R$/l</td>\n",
       "      <td>1.162</td>\n",
       "      <td>0.114</td>\n",
       "      <td>0.89</td>\n",
       "      <td>1.449</td>\n",
       "      <td>0.399</td>\n",
       "      <td>0.098</td>\n",
       "      <td>0.763</td>\n",
       "      <td>0.088</td>\n",
       "      <td>0.5013</td>\n",
       "      <td>1.05</td>\n",
       "      <td>0.115</td>\n",
       "    </tr>\n",
       "    <tr>\n",
       "      <th>2</th>\n",
       "      <td>2</td>\n",
       "      <td>2004-05-09</td>\n",
       "      <td>2004-05-15</td>\n",
       "      <td>CENTRO OESTE</td>\n",
       "      <td>MATO GROSSO</td>\n",
       "      <td>ETANOL HIDRATADO</td>\n",
       "      <td>192</td>\n",
       "      <td>R$/l</td>\n",
       "      <td>1.389</td>\n",
       "      <td>0.097</td>\n",
       "      <td>1.18</td>\n",
       "      <td>1.760</td>\n",
       "      <td>0.419</td>\n",
       "      <td>0.070</td>\n",
       "      <td>0.97</td>\n",
       "      <td>0.095</td>\n",
       "      <td>0.5614</td>\n",
       "      <td>1.161</td>\n",
       "      <td>0.098</td>\n",
       "    </tr>\n",
       "  </tbody>\n",
       "</table>\n",
       "</div>"
      ],
      "text/plain": [
       "   Unnamed: 0 DATA INICIAL  DATA FINAL        REGIÃO            ESTADO  \\\n",
       "0           0   2004-05-09  2004-05-15  CENTRO OESTE  DISTRITO FEDERAL   \n",
       "1           1   2004-05-09  2004-05-15  CENTRO OESTE             GOIAS   \n",
       "2           2   2004-05-09  2004-05-15  CENTRO OESTE       MATO GROSSO   \n",
       "\n",
       "            PRODUTO  NÚMERO DE POSTOS PESQUISADOS UNIDADE DE MEDIDA  \\\n",
       "0  ETANOL HIDRATADO                           127              R$/l   \n",
       "1  ETANOL HIDRATADO                           387              R$/l   \n",
       "2  ETANOL HIDRATADO                           192              R$/l   \n",
       "\n",
       "   PREÇO MÉDIO REVENDA  DESVIO PADRÃO REVENDA  PREÇO MÍNIMO REVENDA  \\\n",
       "0                1.288                  0.016                  1.19   \n",
       "1                1.162                  0.114                  0.89   \n",
       "2                1.389                  0.097                  1.18   \n",
       "\n",
       "   PREÇO MÁXIMO REVENDA MARGEM MÉDIA REVENDA  COEF DE VARIAÇÃO REVENDA  \\\n",
       "0                 1.350                0.463                     0.012   \n",
       "1                 1.449                0.399                     0.098   \n",
       "2                 1.760                0.419                     0.070   \n",
       "\n",
       "  PREÇO MÉDIO DISTRIBUIÇÃO DESVIO PADRÃO DISTRIBUIÇÃO  \\\n",
       "0                    0.825                       0.11   \n",
       "1                    0.763                      0.088   \n",
       "2                     0.97                      0.095   \n",
       "\n",
       "  PREÇO MÍNIMO DISTRIBUIÇÃO PREÇO MÁXIMO DISTRIBUIÇÃO  \\\n",
       "0                    0.4201                    0.9666   \n",
       "1                    0.5013                      1.05   \n",
       "2                    0.5614                     1.161   \n",
       "\n",
       "  COEF DE VARIAÇÃO DISTRIBUIÇÃO  \n",
       "0                         0.133  \n",
       "1                         0.115  \n",
       "2                         0.098  "
      ]
     },
     "execution_count": 34,
     "metadata": {},
     "output_type": "execute_result"
    }
   ],
   "source": [
    "# carregando df gasolina_2000+\n",
    "df_gaso_2000 = pd.read_csv(r'C:\\Users\\EFerrari\\Estudos\\Asimov\\projetos\\analise-precos-gasolina\\gasolina_2000+.csv')\n",
    "df_gaso_2000.head(3)"
   ]
  },
  {
   "cell_type": "code",
   "execution_count": 35,
   "id": "5f84ef76-cfa0-47fd-bbce-44198b81886a",
   "metadata": {
    "tags": []
   },
   "outputs": [
    {
     "name": "stderr",
     "output_type": "stream",
     "text": [
      "C:\\Users\\EFerrari\\AppData\\Local\\Temp\\ipykernel_6440\\3147295284.py:2: DtypeWarning: Columns (12,14,15,16,17,18) have mixed types. Specify dtype option on import or set low_memory=False.\n",
      "  df_gaso_2010 = pd.read_csv(r'C:\\Users\\EFerrari\\Estudos\\Asimov\\projetos\\analise-precos-gasolina\\gasolina_2010+.csv')\n"
     ]
    },
    {
     "data": {
      "text/html": [
       "<div>\n",
       "<style scoped>\n",
       "    .dataframe tbody tr th:only-of-type {\n",
       "        vertical-align: middle;\n",
       "    }\n",
       "\n",
       "    .dataframe tbody tr th {\n",
       "        vertical-align: top;\n",
       "    }\n",
       "\n",
       "    .dataframe thead th {\n",
       "        text-align: right;\n",
       "    }\n",
       "</style>\n",
       "<table border=\"1\" class=\"dataframe\">\n",
       "  <thead>\n",
       "    <tr style=\"text-align: right;\">\n",
       "      <th></th>\n",
       "      <th>Unnamed: 0</th>\n",
       "      <th>DATA INICIAL</th>\n",
       "      <th>DATA FINAL</th>\n",
       "      <th>REGIÃO</th>\n",
       "      <th>ESTADO</th>\n",
       "      <th>PRODUTO</th>\n",
       "      <th>NÚMERO DE POSTOS PESQUISADOS</th>\n",
       "      <th>UNIDADE DE MEDIDA</th>\n",
       "      <th>PREÇO MÉDIO REVENDA</th>\n",
       "      <th>DESVIO PADRÃO REVENDA</th>\n",
       "      <th>PREÇO MÍNIMO REVENDA</th>\n",
       "      <th>PREÇO MÁXIMO REVENDA</th>\n",
       "      <th>MARGEM MÉDIA REVENDA</th>\n",
       "      <th>COEF DE VARIAÇÃO REVENDA</th>\n",
       "      <th>PREÇO MÉDIO DISTRIBUIÇÃO</th>\n",
       "      <th>DESVIO PADRÃO DISTRIBUIÇÃO</th>\n",
       "      <th>PREÇO MÍNIMO DISTRIBUIÇÃO</th>\n",
       "      <th>PREÇO MÁXIMO DISTRIBUIÇÃO</th>\n",
       "      <th>COEF DE VARIAÇÃO DISTRIBUIÇÃO</th>\n",
       "    </tr>\n",
       "  </thead>\n",
       "  <tbody>\n",
       "    <tr>\n",
       "      <th>0</th>\n",
       "      <td>9256</td>\n",
       "      <td>2011-01-02</td>\n",
       "      <td>2011-01-08</td>\n",
       "      <td>CENTRO OESTE</td>\n",
       "      <td>DISTRITO FEDERAL</td>\n",
       "      <td>ETANOL HIDRATADO</td>\n",
       "      <td>80</td>\n",
       "      <td>R$/l</td>\n",
       "      <td>2.030</td>\n",
       "      <td>0.003</td>\n",
       "      <td>2.02</td>\n",
       "      <td>2.05</td>\n",
       "      <td>0.411</td>\n",
       "      <td>0.001</td>\n",
       "      <td>1.619</td>\n",
       "      <td>0.013</td>\n",
       "      <td>1.6111</td>\n",
       "      <td>1.6411</td>\n",
       "      <td>0.008</td>\n",
       "    </tr>\n",
       "    <tr>\n",
       "      <th>1</th>\n",
       "      <td>9257</td>\n",
       "      <td>2011-01-02</td>\n",
       "      <td>2011-01-08</td>\n",
       "      <td>CENTRO OESTE</td>\n",
       "      <td>GOIAS</td>\n",
       "      <td>ETANOL HIDRATADO</td>\n",
       "      <td>255</td>\n",
       "      <td>R$/l</td>\n",
       "      <td>1.717</td>\n",
       "      <td>0.102</td>\n",
       "      <td>1.49</td>\n",
       "      <td>1.99</td>\n",
       "      <td>0.225</td>\n",
       "      <td>0.059</td>\n",
       "      <td>1.492</td>\n",
       "      <td>0.069</td>\n",
       "      <td>1.3221</td>\n",
       "      <td>1.6201</td>\n",
       "      <td>0.046</td>\n",
       "    </tr>\n",
       "    <tr>\n",
       "      <th>2</th>\n",
       "      <td>9258</td>\n",
       "      <td>2011-01-02</td>\n",
       "      <td>2011-01-08</td>\n",
       "      <td>CENTRO OESTE</td>\n",
       "      <td>MATO GROSSO</td>\n",
       "      <td>ETANOL HIDRATADO</td>\n",
       "      <td>141</td>\n",
       "      <td>R$/l</td>\n",
       "      <td>1.848</td>\n",
       "      <td>0.148</td>\n",
       "      <td>1.59</td>\n",
       "      <td>2.49</td>\n",
       "      <td>0.326</td>\n",
       "      <td>0.080</td>\n",
       "      <td>1.522</td>\n",
       "      <td>0.105</td>\n",
       "      <td>1.2833</td>\n",
       "      <td>1.7486</td>\n",
       "      <td>0.069</td>\n",
       "    </tr>\n",
       "  </tbody>\n",
       "</table>\n",
       "</div>"
      ],
      "text/plain": [
       "   Unnamed: 0 DATA INICIAL  DATA FINAL        REGIÃO            ESTADO  \\\n",
       "0        9256   2011-01-02  2011-01-08  CENTRO OESTE  DISTRITO FEDERAL   \n",
       "1        9257   2011-01-02  2011-01-08  CENTRO OESTE             GOIAS   \n",
       "2        9258   2011-01-02  2011-01-08  CENTRO OESTE       MATO GROSSO   \n",
       "\n",
       "            PRODUTO  NÚMERO DE POSTOS PESQUISADOS UNIDADE DE MEDIDA  \\\n",
       "0  ETANOL HIDRATADO                            80              R$/l   \n",
       "1  ETANOL HIDRATADO                           255              R$/l   \n",
       "2  ETANOL HIDRATADO                           141              R$/l   \n",
       "\n",
       "   PREÇO MÉDIO REVENDA  DESVIO PADRÃO REVENDA  PREÇO MÍNIMO REVENDA  \\\n",
       "0                2.030                  0.003                  2.02   \n",
       "1                1.717                  0.102                  1.49   \n",
       "2                1.848                  0.148                  1.59   \n",
       "\n",
       "   PREÇO MÁXIMO REVENDA MARGEM MÉDIA REVENDA  COEF DE VARIAÇÃO REVENDA  \\\n",
       "0                  2.05                0.411                     0.001   \n",
       "1                  1.99                0.225                     0.059   \n",
       "2                  2.49                0.326                     0.080   \n",
       "\n",
       "  PREÇO MÉDIO DISTRIBUIÇÃO DESVIO PADRÃO DISTRIBUIÇÃO  \\\n",
       "0                    1.619                      0.013   \n",
       "1                    1.492                      0.069   \n",
       "2                    1.522                      0.105   \n",
       "\n",
       "  PREÇO MÍNIMO DISTRIBUIÇÃO PREÇO MÁXIMO DISTRIBUIÇÃO  \\\n",
       "0                    1.6111                    1.6411   \n",
       "1                    1.3221                    1.6201   \n",
       "2                    1.2833                    1.7486   \n",
       "\n",
       "  COEF DE VARIAÇÃO DISTRIBUIÇÃO  \n",
       "0                         0.008  \n",
       "1                         0.046  \n",
       "2                         0.069  "
      ]
     },
     "execution_count": 35,
     "metadata": {},
     "output_type": "execute_result"
    }
   ],
   "source": [
    "# carregando df gasolina 2010+\n",
    "df_gaso_2010 = pd.read_csv(r'C:\\Users\\EFerrari\\Estudos\\Asimov\\projetos\\analise-precos-gasolina\\gasolina_2010+.csv')\n",
    "df_gaso_2010.head(3)"
   ]
  },
  {
   "cell_type": "code",
   "execution_count": 36,
   "id": "881da2e8-2c17-4df7-8421-179d782b5004",
   "metadata": {
    "tags": []
   },
   "outputs": [],
   "source": [
    "# juntando os dois dfs (gaso_2000 + gaso_2010)\n",
    "df_preco_gaso = pd.concat([df_gaso_2000, df_gaso_2010], ignore_index=True)"
   ]
  },
  {
   "cell_type": "markdown",
   "id": "59e1c5bc-3af9-49fd-82c3-65ba02437c30",
   "metadata": {},
   "source": [
    "### 2. Investigue as colunas e entenda o conjunto de dados usando o head() e info()"
   ]
  },
  {
   "cell_type": "code",
   "execution_count": 3,
   "id": "08ab0d5b-8c98-4eac-87d6-372d2fd896e4",
   "metadata": {
    "tags": []
   },
   "outputs": [
    {
     "data": {
      "text/html": [
       "<div>\n",
       "<style scoped>\n",
       "    .dataframe tbody tr th:only-of-type {\n",
       "        vertical-align: middle;\n",
       "    }\n",
       "\n",
       "    .dataframe tbody tr th {\n",
       "        vertical-align: top;\n",
       "    }\n",
       "\n",
       "    .dataframe thead th {\n",
       "        text-align: right;\n",
       "    }\n",
       "</style>\n",
       "<table border=\"1\" class=\"dataframe\">\n",
       "  <thead>\n",
       "    <tr style=\"text-align: right;\">\n",
       "      <th></th>\n",
       "      <th>Unnamed: 0</th>\n",
       "      <th>DATA INICIAL</th>\n",
       "      <th>DATA FINAL</th>\n",
       "      <th>REGIÃO</th>\n",
       "      <th>ESTADO</th>\n",
       "      <th>PRODUTO</th>\n",
       "      <th>NÚMERO DE POSTOS PESQUISADOS</th>\n",
       "      <th>UNIDADE DE MEDIDA</th>\n",
       "      <th>PREÇO MÉDIO REVENDA</th>\n",
       "      <th>DESVIO PADRÃO REVENDA</th>\n",
       "      <th>PREÇO MÍNIMO REVENDA</th>\n",
       "      <th>PREÇO MÁXIMO REVENDA</th>\n",
       "      <th>MARGEM MÉDIA REVENDA</th>\n",
       "      <th>COEF DE VARIAÇÃO REVENDA</th>\n",
       "      <th>PREÇO MÉDIO DISTRIBUIÇÃO</th>\n",
       "      <th>DESVIO PADRÃO DISTRIBUIÇÃO</th>\n",
       "      <th>PREÇO MÍNIMO DISTRIBUIÇÃO</th>\n",
       "      <th>PREÇO MÁXIMO DISTRIBUIÇÃO</th>\n",
       "      <th>COEF DE VARIAÇÃO DISTRIBUIÇÃO</th>\n",
       "    </tr>\n",
       "  </thead>\n",
       "  <tbody>\n",
       "    <tr>\n",
       "      <th>0</th>\n",
       "      <td>0</td>\n",
       "      <td>2004-05-09</td>\n",
       "      <td>2004-05-15</td>\n",
       "      <td>CENTRO OESTE</td>\n",
       "      <td>DISTRITO FEDERAL</td>\n",
       "      <td>ETANOL HIDRATADO</td>\n",
       "      <td>127</td>\n",
       "      <td>R$/l</td>\n",
       "      <td>1.288</td>\n",
       "      <td>0.016</td>\n",
       "      <td>1.19</td>\n",
       "      <td>1.350</td>\n",
       "      <td>0.463</td>\n",
       "      <td>0.012</td>\n",
       "      <td>0.825</td>\n",
       "      <td>0.11</td>\n",
       "      <td>0.4201</td>\n",
       "      <td>0.9666</td>\n",
       "      <td>0.133</td>\n",
       "    </tr>\n",
       "    <tr>\n",
       "      <th>1</th>\n",
       "      <td>1</td>\n",
       "      <td>2004-05-09</td>\n",
       "      <td>2004-05-15</td>\n",
       "      <td>CENTRO OESTE</td>\n",
       "      <td>GOIAS</td>\n",
       "      <td>ETANOL HIDRATADO</td>\n",
       "      <td>387</td>\n",
       "      <td>R$/l</td>\n",
       "      <td>1.162</td>\n",
       "      <td>0.114</td>\n",
       "      <td>0.89</td>\n",
       "      <td>1.449</td>\n",
       "      <td>0.399</td>\n",
       "      <td>0.098</td>\n",
       "      <td>0.763</td>\n",
       "      <td>0.088</td>\n",
       "      <td>0.5013</td>\n",
       "      <td>1.05</td>\n",
       "      <td>0.115</td>\n",
       "    </tr>\n",
       "    <tr>\n",
       "      <th>2</th>\n",
       "      <td>2</td>\n",
       "      <td>2004-05-09</td>\n",
       "      <td>2004-05-15</td>\n",
       "      <td>CENTRO OESTE</td>\n",
       "      <td>MATO GROSSO</td>\n",
       "      <td>ETANOL HIDRATADO</td>\n",
       "      <td>192</td>\n",
       "      <td>R$/l</td>\n",
       "      <td>1.389</td>\n",
       "      <td>0.097</td>\n",
       "      <td>1.18</td>\n",
       "      <td>1.760</td>\n",
       "      <td>0.419</td>\n",
       "      <td>0.070</td>\n",
       "      <td>0.97</td>\n",
       "      <td>0.095</td>\n",
       "      <td>0.5614</td>\n",
       "      <td>1.161</td>\n",
       "      <td>0.098</td>\n",
       "    </tr>\n",
       "    <tr>\n",
       "      <th>3</th>\n",
       "      <td>3</td>\n",
       "      <td>2004-05-09</td>\n",
       "      <td>2004-05-15</td>\n",
       "      <td>CENTRO OESTE</td>\n",
       "      <td>MATO GROSSO DO SUL</td>\n",
       "      <td>ETANOL HIDRATADO</td>\n",
       "      <td>162</td>\n",
       "      <td>R$/l</td>\n",
       "      <td>1.262</td>\n",
       "      <td>0.070</td>\n",
       "      <td>1.09</td>\n",
       "      <td>1.509</td>\n",
       "      <td>0.432</td>\n",
       "      <td>0.055</td>\n",
       "      <td>0.83</td>\n",
       "      <td>0.119</td>\n",
       "      <td>0.5991</td>\n",
       "      <td>1.22242</td>\n",
       "      <td>0.143</td>\n",
       "    </tr>\n",
       "    <tr>\n",
       "      <th>4</th>\n",
       "      <td>4</td>\n",
       "      <td>2004-05-09</td>\n",
       "      <td>2004-05-15</td>\n",
       "      <td>NORDESTE</td>\n",
       "      <td>ALAGOAS</td>\n",
       "      <td>ETANOL HIDRATADO</td>\n",
       "      <td>103</td>\n",
       "      <td>R$/l</td>\n",
       "      <td>1.181</td>\n",
       "      <td>0.078</td>\n",
       "      <td>1.05</td>\n",
       "      <td>1.400</td>\n",
       "      <td>0.24</td>\n",
       "      <td>0.066</td>\n",
       "      <td>0.941</td>\n",
       "      <td>0.077</td>\n",
       "      <td>0.7441</td>\n",
       "      <td>1.0317</td>\n",
       "      <td>0.082</td>\n",
       "    </tr>\n",
       "  </tbody>\n",
       "</table>\n",
       "</div>"
      ],
      "text/plain": [
       "   Unnamed: 0 DATA INICIAL  DATA FINAL        REGIÃO              ESTADO  \\\n",
       "0           0   2004-05-09  2004-05-15  CENTRO OESTE    DISTRITO FEDERAL   \n",
       "1           1   2004-05-09  2004-05-15  CENTRO OESTE               GOIAS   \n",
       "2           2   2004-05-09  2004-05-15  CENTRO OESTE         MATO GROSSO   \n",
       "3           3   2004-05-09  2004-05-15  CENTRO OESTE  MATO GROSSO DO SUL   \n",
       "4           4   2004-05-09  2004-05-15      NORDESTE             ALAGOAS   \n",
       "\n",
       "            PRODUTO  NÚMERO DE POSTOS PESQUISADOS UNIDADE DE MEDIDA  \\\n",
       "0  ETANOL HIDRATADO                           127              R$/l   \n",
       "1  ETANOL HIDRATADO                           387              R$/l   \n",
       "2  ETANOL HIDRATADO                           192              R$/l   \n",
       "3  ETANOL HIDRATADO                           162              R$/l   \n",
       "4  ETANOL HIDRATADO                           103              R$/l   \n",
       "\n",
       "   PREÇO MÉDIO REVENDA  DESVIO PADRÃO REVENDA  PREÇO MÍNIMO REVENDA  \\\n",
       "0                1.288                  0.016                  1.19   \n",
       "1                1.162                  0.114                  0.89   \n",
       "2                1.389                  0.097                  1.18   \n",
       "3                1.262                  0.070                  1.09   \n",
       "4                1.181                  0.078                  1.05   \n",
       "\n",
       "   PREÇO MÁXIMO REVENDA MARGEM MÉDIA REVENDA  COEF DE VARIAÇÃO REVENDA  \\\n",
       "0                 1.350                0.463                     0.012   \n",
       "1                 1.449                0.399                     0.098   \n",
       "2                 1.760                0.419                     0.070   \n",
       "3                 1.509                0.432                     0.055   \n",
       "4                 1.400                 0.24                     0.066   \n",
       "\n",
       "  PREÇO MÉDIO DISTRIBUIÇÃO DESVIO PADRÃO DISTRIBUIÇÃO  \\\n",
       "0                    0.825                       0.11   \n",
       "1                    0.763                      0.088   \n",
       "2                     0.97                      0.095   \n",
       "3                     0.83                      0.119   \n",
       "4                    0.941                      0.077   \n",
       "\n",
       "  PREÇO MÍNIMO DISTRIBUIÇÃO PREÇO MÁXIMO DISTRIBUIÇÃO  \\\n",
       "0                    0.4201                    0.9666   \n",
       "1                    0.5013                      1.05   \n",
       "2                    0.5614                     1.161   \n",
       "3                    0.5991                   1.22242   \n",
       "4                    0.7441                    1.0317   \n",
       "\n",
       "  COEF DE VARIAÇÃO DISTRIBUIÇÃO  \n",
       "0                         0.133  \n",
       "1                         0.115  \n",
       "2                         0.098  \n",
       "3                         0.143  \n",
       "4                         0.082  "
      ]
     },
     "execution_count": 3,
     "metadata": {},
     "output_type": "execute_result"
    }
   ],
   "source": [
    "df_preco_gaso.head()"
   ]
  },
  {
   "cell_type": "code",
   "execution_count": 4,
   "id": "f59c4f86-5fd8-4c49-a921-0654b311718b",
   "metadata": {
    "tags": []
   },
   "outputs": [
    {
     "name": "stdout",
     "output_type": "stream",
     "text": [
      "<class 'pandas.core.frame.DataFrame'>\n",
      "RangeIndex: 120823 entries, 0 to 120822\n",
      "Data columns (total 19 columns):\n",
      " #   Column                         Non-Null Count   Dtype  \n",
      "---  ------                         --------------   -----  \n",
      " 0   Unnamed: 0                     120823 non-null  int64  \n",
      " 1   DATA INICIAL                   120823 non-null  object \n",
      " 2   DATA FINAL                     120823 non-null  object \n",
      " 3   REGIÃO                         120823 non-null  object \n",
      " 4   ESTADO                         120823 non-null  object \n",
      " 5   PRODUTO                        120823 non-null  object \n",
      " 6   NÚMERO DE POSTOS PESQUISADOS   120823 non-null  int64  \n",
      " 7   UNIDADE DE MEDIDA              120823 non-null  object \n",
      " 8   PREÇO MÉDIO REVENDA            120823 non-null  float64\n",
      " 9   DESVIO PADRÃO REVENDA          120823 non-null  float64\n",
      " 10  PREÇO MÍNIMO REVENDA           120823 non-null  float64\n",
      " 11  PREÇO MÁXIMO REVENDA           120823 non-null  float64\n",
      " 12  MARGEM MÉDIA REVENDA           120823 non-null  object \n",
      " 13  COEF DE VARIAÇÃO REVENDA       120823 non-null  float64\n",
      " 14  PREÇO MÉDIO DISTRIBUIÇÃO       120823 non-null  object \n",
      " 15  DESVIO PADRÃO DISTRIBUIÇÃO     120823 non-null  object \n",
      " 16  PREÇO MÍNIMO DISTRIBUIÇÃO      120823 non-null  object \n",
      " 17  PREÇO MÁXIMO DISTRIBUIÇÃO      120823 non-null  object \n",
      " 18  COEF DE VARIAÇÃO DISTRIBUIÇÃO  120823 non-null  object \n",
      "dtypes: float64(5), int64(2), object(12)\n",
      "memory usage: 17.5+ MB\n"
     ]
    }
   ],
   "source": [
    "df_preco_gaso.info()"
   ]
  },
  {
   "cell_type": "markdown",
   "id": "2fca58ef-0bb9-49ce-b5a7-4ff08d199fd1",
   "metadata": {
    "tags": []
   },
   "source": [
    "### 3. Selecione a terceira entrada da coluna DATA INICIAL e verifique seu tipo."
   ]
  },
  {
   "cell_type": "code",
   "execution_count": 5,
   "id": "fc04234d-626c-4f17-b39e-262ceacd5387",
   "metadata": {},
   "outputs": [
    {
     "data": {
      "text/plain": [
       "str"
      ]
     },
     "execution_count": 5,
     "metadata": {},
     "output_type": "execute_result"
    }
   ],
   "source": [
    "type(df_preco_gaso.loc[3, 'DATA INICIAL'])"
   ]
  },
  {
   "cell_type": "code",
   "execution_count": 6,
   "id": "86e53c86-0ed6-4279-8574-c8bbc058f73a",
   "metadata": {
    "tags": []
   },
   "outputs": [
    {
     "data": {
      "text/plain": [
       "Index(['Unnamed: 0', 'DATA INICIAL', 'DATA FINAL', 'REGIÃO', 'ESTADO',\n",
       "       'PRODUTO', 'NÚMERO DE POSTOS PESQUISADOS', 'UNIDADE DE MEDIDA',\n",
       "       'PREÇO MÉDIO REVENDA', 'DESVIO PADRÃO REVENDA', 'PREÇO MÍNIMO REVENDA',\n",
       "       'PREÇO MÁXIMO REVENDA', 'MARGEM MÉDIA REVENDA',\n",
       "       'COEF DE VARIAÇÃO REVENDA', 'PREÇO MÉDIO DISTRIBUIÇÃO',\n",
       "       'DESVIO PADRÃO DISTRIBUIÇÃO', 'PREÇO MÍNIMO DISTRIBUIÇÃO',\n",
       "       'PREÇO MÁXIMO DISTRIBUIÇÃO', 'COEF DE VARIAÇÃO DISTRIBUIÇÃO'],\n",
       "      dtype='object')"
      ]
     },
     "execution_count": 6,
     "metadata": {},
     "output_type": "execute_result"
    }
   ],
   "source": [
    "df_preco_gaso.columns"
   ]
  },
  {
   "cell_type": "markdown",
   "id": "5fe5d064-03ff-4f48-a667-b18e24b610c5",
   "metadata": {
    "tags": []
   },
   "source": [
    "### 4. Você deve ter percebido que as colunas DATA INICIAL e DATA FINAL estão formatadas como string. Utilizando o método pd.to_datetime(), converta ambas colunas para Timestamp / Datetime."
   ]
  },
  {
   "cell_type": "code",
   "execution_count": 7,
   "id": "64e0a0a3-ec8d-4af8-84a3-b9c726ad2b9a",
   "metadata": {},
   "outputs": [],
   "source": [
    "df_preco_gaso['DATA INICIAL'] = pd.to_datetime(df_preco_gaso['DATA INICIAL'])\n",
    "\n",
    "df_preco_gaso['DATA FINAL'] = pd.to_datetime(df_preco_gaso['DATA FINAL'])"
   ]
  },
  {
   "cell_type": "markdown",
   "id": "8bac584b-5000-4d4f-8637-76f6154fa352",
   "metadata": {},
   "source": [
    "### 5. Crie uma nova coluna para representar o ano e o mês(aaaa-mm), utilizando a coluna DATA FINAL como referência."
   ]
  },
  {
   "cell_type": "code",
   "execution_count": 8,
   "id": "8f7c00f4-5810-4189-a030-487da1dfc078",
   "metadata": {},
   "outputs": [
    {
     "data": {
      "text/plain": [
       "0         2004-05\n",
       "1         2004-05\n",
       "2         2004-05\n",
       "3         2004-05\n",
       "4         2004-05\n",
       "           ...   \n",
       "120818    2021-05\n",
       "120819    2021-05\n",
       "120820    2021-05\n",
       "120821    2021-05\n",
       "120822    2021-05\n",
       "Name: ANO_MÊS, Length: 120823, dtype: period[M]"
      ]
     },
     "execution_count": 8,
     "metadata": {},
     "output_type": "execute_result"
    }
   ],
   "source": [
    "df_preco_gaso['ANO_MÊS'] = pd.to_datetime(df_preco_gaso['DATA FINAL']).dt.to_period('M')\n",
    "\n",
    "df_preco_gaso['ANO_MÊS']"
   ]
  },
  {
   "cell_type": "markdown",
   "id": "6593e069-6cfa-4550-a8d3-9582b079d65e",
   "metadata": {},
   "source": [
    "### 6. Utilizando o value_counts(), liste todos os tipos de produtos contidos na base de dados."
   ]
  },
  {
   "cell_type": "code",
   "execution_count": 9,
   "id": "0bf05db2-0d59-445d-8c74-abf3c601b215",
   "metadata": {},
   "outputs": [
    {
     "data": {
      "text/plain": [
       "GASOLINA COMUM        23570\n",
       "GLP                   23561\n",
       "ETANOL HIDRATADO      23440\n",
       "ÓLEO DIESEL           21194\n",
       "GNV                   14469\n",
       "ÓLEO DIESEL S10        9113\n",
       "OLEO DIESEL S10        2376\n",
       "OLEO DIESEL            2351\n",
       "GASOLINA ADITIVADA      749\n",
       "Name: PRODUTO, dtype: int64"
      ]
     },
     "execution_count": 9,
     "metadata": {},
     "output_type": "execute_result"
    }
   ],
   "source": [
    "df_preco_gaso['PRODUTO'].value_counts()"
   ]
  },
  {
   "cell_type": "markdown",
   "id": "e39bf07a-7095-4000-8070-92aa1d35a8ec",
   "metadata": {},
   "source": [
    "### 7. Filtre o DataFrame para obter apenas dados da 'GASOLINA COMUM'. Grave em uma nova variável."
   ]
  },
  {
   "cell_type": "code",
   "execution_count": 10,
   "id": "52abe49e-c787-43fc-9185-6ebf6d1208cc",
   "metadata": {},
   "outputs": [],
   "source": [
    "df_preco_gaso_comum = df_preco_gaso[df_preco_gaso['PRODUTO'] == 'GASOLINA COMUM']"
   ]
  },
  {
   "cell_type": "markdown",
   "id": "0d87805c-5112-4a6b-a863-17ca0d8853ca",
   "metadata": {},
   "source": [
    "### 8. Qual o preço médio de revenda da gasolina em agosto de 2008?"
   ]
  },
  {
   "cell_type": "code",
   "execution_count": 11,
   "id": "b90c0864-130b-41aa-9463-a2b7f6a6e0e2",
   "metadata": {},
   "outputs": [
    {
     "data": {
      "text/plain": [
       "9.300789303079416"
      ]
     },
     "execution_count": 11,
     "metadata": {},
     "output_type": "execute_result"
    }
   ],
   "source": [
    "preco_med_gaso_2008 = df_preco_gaso[df_preco_gaso['ANO_MÊS'] == '2008-08']['PREÇO MÉDIO REVENDA'].mean()\n",
    "\n",
    "preco_med_gaso_2008"
   ]
  },
  {
   "cell_type": "markdown",
   "id": "c75c7c53-4eec-4ac7-a78b-9342d1410d36",
   "metadata": {},
   "source": [
    "### 9. Qual o preço médio de revenda da gasolina em maio de 2014 em São Paulo?"
   ]
  },
  {
   "cell_type": "code",
   "execution_count": 12,
   "id": "7221b3a5-de6e-4e17-9636-35bcc8c1d8e0",
   "metadata": {
    "tags": []
   },
   "outputs": [
    {
     "data": {
      "text/plain": [
       "PARAIBA                4819\n",
       "RIO DE JANEIRO         4819\n",
       "SAO PAULO              4819\n",
       "RIO GRANDE DO SUL      4819\n",
       "BAHIA                  4819\n",
       "SANTA CATARINA         4818\n",
       "RIO GRANDE DO NORTE    4818\n",
       "MINAS GERAIS           4817\n",
       "ESPIRITO SANTO         4815\n",
       "PERNAMBUCO             4813\n",
       "CEARA                  4813\n",
       "PARANA                 4807\n",
       "ALAGOAS                4806\n",
       "SERGIPE                4795\n",
       "MATO GROSSO DO SUL     4793\n",
       "MATO GROSSO            4566\n",
       "AMAZONAS               4414\n",
       "GOIAS                  4134\n",
       "PIAUI                  4017\n",
       "MARANHAO               3971\n",
       "DISTRITO FEDERAL       3956\n",
       "PARA                   3955\n",
       "TOCANTINS              3953\n",
       "RONDONIA               3950\n",
       "ACRE                   3948\n",
       "RORAIMA                3938\n",
       "AMAPA                  3831\n",
       "Name: ESTADO, dtype: int64"
      ]
     },
     "execution_count": 12,
     "metadata": {},
     "output_type": "execute_result"
    }
   ],
   "source": [
    "# exibindo valores unicos na coluna estado\n",
    "\n",
    "df_preco_gaso['ESTADO'].value_counts()"
   ]
  },
  {
   "cell_type": "code",
   "execution_count": 13,
   "id": "4433313d-ed95-4efa-8fe6-c3ee4b3cc2e6",
   "metadata": {},
   "outputs": [
    {
     "data": {
      "text/plain": [
       "8.920766666666669"
      ]
     },
     "execution_count": 13,
     "metadata": {},
     "output_type": "execute_result"
    }
   ],
   "source": [
    "preco_med_gaso_2014_sp = df_preco_gaso[(df_preco_gaso['ANO_MÊS'] == '2014-05') &\n",
    "                         (df_preco_gaso['ESTADO'] == 'SAO PAULO')]['PREÇO MÉDIO REVENDA'].mean()\n",
    "\n",
    "preco_med_gaso_2014_sp"
   ]
  },
  {
   "cell_type": "markdown",
   "id": "aa74213d-5d1f-49fa-9beb-4a98b73896e2",
   "metadata": {
    "tags": []
   },
   "source": [
    "### 10. Você conseguiria descobrir em qual(quais) estado(s) a gasolina ultrapassou a barreira dos R$ 5,00? E quando isso ocorreu?"
   ]
  },
  {
   "cell_type": "code",
   "execution_count": 14,
   "id": "7415c139-8ece-44ee-9055-fa314bcff63e",
   "metadata": {},
   "outputs": [],
   "source": [
    "# criando um df com as informações novas\n",
    "gaso_acima_5 = df_preco_gaso[(df_preco_gaso['PRODUTO'] == 'GASOLINA COMUM') &\n",
    "                             (df_preco_gaso['PREÇO MÍNIMO REVENDA'] > 5)]"
   ]
  },
  {
   "cell_type": "code",
   "execution_count": 15,
   "id": "f66ab5e4-9885-43d2-afaa-93a63099f8aa",
   "metadata": {
    "tags": []
   },
   "outputs": [
    {
     "data": {
      "text/plain": [
       "array(['ACRE', 'BAHIA', 'GOIAS', 'MARANHAO', 'MATO GROSSO DO SUL', 'PARA',\n",
       "       'PIAUI', 'RIO DE JANEIRO', 'RIO GRANDE DO NORTE', 'SERGIPE',\n",
       "       'TOCANTINS', 'CEARA', 'DISTRITO FEDERAL', 'ESPIRITO SANTO',\n",
       "       'RIO GRANDE DO SUL', 'RONDONIA', 'ALAGOAS', 'AMAZONAS',\n",
       "       'MATO GROSSO', 'MINAS GERAIS', 'RORAIMA', 'PARAIBA', 'PARANA',\n",
       "       'PERNAMBUCO', 'SANTA CATARINA'], dtype=object)"
      ]
     },
     "execution_count": 15,
     "metadata": {},
     "output_type": "execute_result"
    }
   ],
   "source": [
    "gaso_acima_5['ESTADO'].unique()"
   ]
  },
  {
   "cell_type": "code",
   "execution_count": 16,
   "id": "3d4f1506-a261-48bd-bc91-74059cb0cd4b",
   "metadata": {
    "tags": []
   },
   "outputs": [
    {
     "data": {
      "text/plain": [
       "<PeriodArray>\n",
       "['2018-09', '2018-10', '2018-11', '2021-01', '2021-02', '2021-03', '2021-04',\n",
       " '2021-05']\n",
       "Length: 8, dtype: period[M]"
      ]
     },
     "execution_count": 16,
     "metadata": {},
     "output_type": "execute_result"
    }
   ],
   "source": [
    "gaso_acima_5['ANO_MÊS'].unique()"
   ]
  },
  {
   "cell_type": "markdown",
   "id": "065a2aed-dcbc-4808-8740-cf83b772449a",
   "metadata": {},
   "source": [
    "### 11. Qual a média de preço dos estados da região sul em 2012?"
   ]
  },
  {
   "cell_type": "code",
   "execution_count": 17,
   "id": "6dd7428f-1353-48b0-bc20-1c9f993a04e1",
   "metadata": {
    "tags": []
   },
   "outputs": [
    {
     "data": {
      "text/plain": [
       "NORDESTE        41671\n",
       "NORTE           27989\n",
       "SUDESTE         19270\n",
       "CENTRO OESTE    17449\n",
       "SUL             14444\n",
       "Name: REGIÃO, dtype: int64"
      ]
     },
     "execution_count": 17,
     "metadata": {},
     "output_type": "execute_result"
    }
   ],
   "source": [
    "df_preco_gaso['REGIÃO'].value_counts()"
   ]
  },
  {
   "cell_type": "code",
   "execution_count": 18,
   "id": "3f333f0f-8644-4579-a1e5-cd1e1919f06d",
   "metadata": {
    "tags": []
   },
   "outputs": [],
   "source": [
    "# criando uma nova coluna para receber o ano\n",
    "df_preco_gaso['ANO'] = df_preco_gaso['ANO_MÊS'].dt.year"
   ]
  },
  {
   "cell_type": "code",
   "execution_count": 19,
   "id": "4aef62e6-e485-43fb-84f7-285ef7fa978f",
   "metadata": {},
   "outputs": [
    {
     "data": {
      "text/plain": [
       "2.7214423076923073"
      ]
     },
     "execution_count": 19,
     "metadata": {},
     "output_type": "execute_result"
    }
   ],
   "source": [
    "med_preco_sul_2012 = df_preco_gaso[(df_preco_gaso['REGIÃO'] == 'SUL') & \n",
    "                               (df_preco_gaso['ANO'] == 2012) &\n",
    "                               (df_preco_gaso['PRODUTO'] == 'GASOLINA COMUM')]['PREÇO MÉDIO REVENDA'].mean()\n",
    "\n",
    "med_preco_sul_2012"
   ]
  },
  {
   "cell_type": "markdown",
   "id": "fec616fc-5ee5-47de-af12-275d7b5a3d27",
   "metadata": {},
   "source": [
    "### 12. Você conseguiria obter uma tabela contendo a variação percentual ano a ano para o estado do Rio de Janeiro?"
   ]
  },
  {
   "cell_type": "code",
   "execution_count": 20,
   "id": "0829adc7-77f3-4176-a2ae-cdf12585b9f8",
   "metadata": {},
   "outputs": [
    {
     "data": {
      "text/plain": [
       "ANO\n",
       "2004    0.643069\n",
       "2005    0.692410\n",
       "2006    0.758370\n",
       "2007    0.749698\n",
       "2008    0.754037\n",
       "2009    0.759440\n",
       "2010    0.783958\n",
       "2011    0.838706\n",
       "2012    0.844666\n",
       "2013    0.886892\n",
       "2014    0.927358\n",
       "2015    1.047375\n",
       "2016    1.159965\n",
       "2017    1.214613\n",
       "2018    1.437493\n",
       "2019    1.437498\n",
       "2020    1.409726\n",
       "2021    1.654727\n",
       "Name: PREÇO MÉDIO REVENDA, dtype: float64"
      ]
     },
     "execution_count": 20,
     "metadata": {},
     "output_type": "execute_result"
    }
   ],
   "source": [
    "df_preco_gaso_rj = df_preco_gaso[(df_preco_gaso['ESTADO'] == 'RIO DE JANEIRO') &\n",
    "                                 (df_preco_gaso['PRODUTO'] == 'GASOLINA COMUM')]\n",
    "\n",
    "df_preco_gaso_rj.groupby(\"ANO\")[\"PREÇO MÉDIO REVENDA\"].mean() / df_preco_gaso_rj.groupby(\"ANO\")[\"PREÇO MÉDIO REVENDA\"].mean().mean()"
   ]
  }
 ],
 "metadata": {
  "kernelspec": {
   "display_name": "Python 3 (ipykernel)",
   "language": "python",
   "name": "python3"
  },
  "language_info": {
   "codemirror_mode": {
    "name": "ipython",
    "version": 3
   },
   "file_extension": ".py",
   "mimetype": "text/x-python",
   "name": "python",
   "nbconvert_exporter": "python",
   "pygments_lexer": "ipython3",
   "version": "3.11.3"
  },
  "toc": {
   "base_numbering": 1,
   "nav_menu": {},
   "number_sections": true,
   "sideBar": true,
   "skip_h1_title": false,
   "title_cell": "Table of Contents",
   "title_sidebar": "Contents",
   "toc_cell": false,
   "toc_position": {},
   "toc_section_display": true,
   "toc_window_display": false
  },
  "varInspector": {
   "cols": {
    "lenName": 16,
    "lenType": 16,
    "lenVar": 40
   },
   "kernels_config": {
    "python": {
     "delete_cmd_postfix": "",
     "delete_cmd_prefix": "del ",
     "library": "var_list.py",
     "varRefreshCmd": "print(var_dic_list())"
    },
    "r": {
     "delete_cmd_postfix": ") ",
     "delete_cmd_prefix": "rm(",
     "library": "var_list.r",
     "varRefreshCmd": "cat(var_dic_list()) "
    }
   },
   "types_to_exclude": [
    "module",
    "function",
    "builtin_function_or_method",
    "instance",
    "_Feature"
   ],
   "window_display": false
  }
 },
 "nbformat": 4,
 "nbformat_minor": 5
}
